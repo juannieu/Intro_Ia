{
  "nbformat": 4,
  "nbformat_minor": 0,
  "metadata": {
    "colab": {
      "name": "Ejercicios Clase 1.ipynb",
      "provenance": [],
      "collapsed_sections": []
    },
    "kernelspec": {
      "name": "python3",
      "display_name": "Python 3"
    },
    "language_info": {
      "name": "python"
    }
  },
  "cells": [
    {
      "cell_type": "markdown",
      "source": [
        "# Ejercicios Clase 1\n",
        "Intro IA\n",
        "\n",
        "Juan Pablo Nieto Uribe"
      ],
      "metadata": {
        "id": "j3q-jMpndlHA"
      }
    },
    {
      "cell_type": "code",
      "source": [
        "#Importamos Numpy\n",
        "import numpy as np\n",
        "import numpy.ma as ma"
      ],
      "metadata": {
        "id": "AT2-WoBnQl3_"
      },
      "execution_count": null,
      "outputs": []
    },
    {
      "cell_type": "markdown",
      "source": [
        "\n",
        "\n",
        "---\n",
        "\n",
        "\n",
        "1. **Operaciones matriciales:** Dada una matriz en formato Numpy Array, donde cada fila de la matriz representa un vector matemático, se requiere computar las normas l0, l1, l2,l-infinity, según las siguientes definiciones:\n",
        "\n",
        "*   l0=número de elementos diferentes a cero en el vector.\n",
        "* $\\left \\| x \\right \\|_{p}:=\\left ( \\sum_{i=1}^{n}\\left | x_{i} \\right |^{p} \\right )^{1/p}$.\n",
        "*$\\left \\| x \\right \\|_{\\infty }:=max_{i}\\left | x_i \\right |$\n"
      ],
      "metadata": {
        "id": "syQ2Zh1Yke7-"
      }
    },
    {
      "cell_type": "code",
      "execution_count": null,
      "metadata": {
        "id": "HCkXl_xfkbG0",
        "colab": {
          "base_uri": "https://localhost:8080/"
        },
        "outputId": "54593a34-c148-43c5-ced7-c82a65c3bf02"
      },
      "outputs": [
        {
          "output_type": "stream",
          "name": "stdout",
          "text": [
            "La matriz de ejemplo es  [[8 5 9 8 8]\n",
            " [5 2 4 1 4]\n",
            " [6 5 7 6 9]\n",
            " [5 9 2 2 6]\n",
            " [3 6 9 9 5]]\n",
            "Al evaluar la norma l0, obtengo:  [5 5 5 5 5]\n",
            "Al evaluar la norma l1, obtengo:  [38 16 33 24 32]\n",
            "Al evaluar la norma l2, obtengo:  [17.2626765   7.87400787 15.06651917 12.24744871 15.23154621]\n",
            "Al evaluar la norma l-infinity, obtengo:  [9 5 9 9 9]\n"
          ]
        }
      ],
      "source": [
        "#Comenzamos definiendo las funciones para cada norma\n",
        "def norma_l0(matriz):\n",
        "  resp_norma_l0=np.count_nonzero(matriz,axis=1)\n",
        "  return resp_norma_l0\n",
        "\n",
        "def norma_l1(matriz):\n",
        "  matriz=np.absolute(matriz)\n",
        "  resp_norma_l1=np.sum(matriz,axis=1)\n",
        "  return resp_norma_l1\n",
        "\n",
        "def norma_l2(matriz):\n",
        "  cuadrados=np.square(matriz)\n",
        "  suma=np.sum(cuadrados,axis=1)\n",
        "  resp_norma_l2=np.sqrt(suma)\n",
        "  return resp_norma_l2\n",
        "\n",
        "def norma_l_infninito(matriz):\n",
        "  matriz=np.absolute(matriz)\n",
        "  return np.amax(matriz, axis=1)\n",
        "\n",
        "#Creamos una matriz de ejemplo \n",
        "mat_ejemplo=np.random.randint(10,size=(5,5))\n",
        "print(\"La matriz de ejemplo es \",mat_ejemplo)\n",
        "\n",
        "#Probamos los resultados\n",
        "print('Al evaluar la norma l0, obtengo: ',norma_l0(mat_ejemplo))\n",
        "print('Al evaluar la norma l1, obtengo: ',norma_l1(mat_ejemplo))\n",
        "print('Al evaluar la norma l2, obtengo: ',norma_l2(mat_ejemplo))\n",
        "print('Al evaluar la norma l-infinity, obtengo: ',norma_l_infninito(mat_ejemplo))"
      ]
    },
    {
      "cell_type": "markdown",
      "source": [
        "\n",
        "\n",
        "---\n",
        "\n",
        "\n",
        "2. **Sorting:** Dada una matriz en formato numpy array, donde cada fila de la matriz representa un vector matemático, se requiere computar la norma l2 de cada vector.\n",
        "\n",
        "  Una vez obtenida la norma l2 de cada vector, se debe ordenar las normas de mayor a menor.\n",
        "\n",
        "  Finalmente, obtener la matriz original ordenada por fila según la norma l2."
      ],
      "metadata": {
        "id": "pvYen5L-l4yF"
      }
    },
    {
      "cell_type": "code",
      "source": [
        "#Usando el código del punto 1 para calcular la norma l2, tenemos\n",
        "def norma_l2(matriz):\n",
        "  cuadrados=np.square(matriz)\n",
        "  suma=np.sum(cuadrados,axis=1)\n",
        "  resp_norma_l2=np.sqrt(suma)\n",
        "  return resp_norma_l2\n",
        "\n",
        "#Creamos una matriz de ejemplo\n",
        "mat_ejemplo_punto_2=np.random.randint(10,size=(5,5))\n",
        "\n",
        "'''Hacemos el sorting de mayor a menor. Se presentan las normas ordenadas, aunque los valores que realmente se usan en la \n",
        "organización son sus respectivos índices'''\n",
        "sort_norma_l2=np.sort(norma_l2(mat_ejemplo_punto_2))[::-1]\n",
        "indices=np.argsort(norma_l2(mat_ejemplo_punto_2))[::-1]\n",
        "\n",
        "#Finalmente, calculamos la nueva matriz organizada:\n",
        "matrizOrganizada=mat_ejemplo_punto_2[indices,:]\n",
        "\n",
        "print('La matriz random que se generó fue: ', mat_ejemplo_punto_2)\n",
        "print('El array ordenado por norma l2 es: ',sort_norma_l2)\n",
        "print('Los índices después de organizar son: ', indices)\n",
        "print('La matriz organizada es: ',matrizOrganizada)"
      ],
      "metadata": {
        "id": "fb8DMcw4l0hk",
        "colab": {
          "base_uri": "https://localhost:8080/"
        },
        "outputId": "0d9f55ed-0cd5-478d-a48b-64e8f3020b8f"
      },
      "execution_count": null,
      "outputs": [
        {
          "output_type": "stream",
          "name": "stdout",
          "text": [
            "La matriz random que se generó fue:  [[4 1 9 0 7]\n",
            " [9 4 8 1 6]\n",
            " [0 5 8 5 8]\n",
            " [5 9 8 8 6]\n",
            " [3 2 8 9 1]]\n",
            "El array ordenado por norma l2 es:  [16.43167673 14.07124728 13.34166406 12.60952021 12.12435565]\n",
            "Los índices después de organizar son:  [3 1 2 4 0]\n",
            "La matriz organizada es:  [[5 9 8 8 6]\n",
            " [9 4 8 1 6]\n",
            " [0 5 8 5 8]\n",
            " [3 2 8 9 1]\n",
            " [4 1 9 0 7]]\n"
          ]
        }
      ]
    },
    {
      "cell_type": "markdown",
      "source": [
        "\n",
        "\n",
        "---\n",
        "\n",
        "\n",
        "3. **Indexing:** Construir un índice para identificadores de usuarios.\n",
        "  \n",
        "  Identificadores de usuarios= users_idx=[15,12,14,10,1,2,1]\n",
        "  \n",
        "  Índice de usuarios=users_id=[0,1,2,3,4,5,4]\n",
        "\n",
        "  Objetivo:Construir el id2idx e idx2id.\n",
        "\n",
        "  Crear una clase. El índice debe construirse en el constructor. Armar métodos de instancia \"get_users_id\" y \"get_users_idx\""
      ],
      "metadata": {
        "id": "WYMLZSEYmsxU"
      }
    },
    {
      "cell_type": "code",
      "source": [
        "#Tomando que id son los valores dados para Identificadores de Usuarios, consignado en el vector indice_usuarios\n",
        "#Tomando que idx son los valores de Índice de usuarios\n",
        "class Usuario(object):\n",
        "\n",
        "    def __init__(self,indices):\n",
        "      self.indice=indices\n",
        "      #Quitamos los duplicados, y pedimos a np que nos devuelva los índices del nuevo array sin duplicados\n",
        "      self.idx2id=indices\n",
        "      self.id2idx=np.unique(indices,True,True)\n",
        "\n",
        "    def get_users_id(self,valorIdx):\n",
        "      indiceResultado=np.where(self.idx2id==valorIdx)\n",
        "      lenResultado=indiceResultado[0].size\n",
        "      if lenResultado>0:\n",
        "        return indiceResultado\n",
        "      else:\n",
        "        return np.array([-1])\n",
        "\n",
        "    def get_users_idx(self,elIndice):\n",
        "      nuevoIndice=np.where(self.id2idx[1]==elIndice)\n",
        "      resultado=self.id2idx[0][nuevoIndice]\n",
        "      return resultado\n",
        "\n",
        "indice_usuarios=np.array([15,12,14,10,1,2,1])\n",
        "\n",
        "#Creamos un objeto Usuario\n",
        "objeto_usuario=Usuario(indice_usuarios)\n",
        "\n",
        "#Evaluamos los resultados\n",
        "#Primero los de la función id2idx\n",
        "print('Primero los de la función id2idx')\n",
        "print('id2idx[15] -> ',objeto_usuario.get_users_id(15)[0])\n",
        "print('id2idx[12] -> ',objeto_usuario.get_users_id(12)[0])\n",
        "print('id2idx[3] -> ',objeto_usuario.get_users_id(3)[0])\n",
        "#Finalmente los de la función idx2id\n",
        "print('Finalmente los de la función idx2id')\n",
        "print('idx2id[0] -> ',objeto_usuario.get_users_idx(0))\n",
        "print('idx2id[4] -> ',objeto_usuario.get_users_idx(4))\n"
      ],
      "metadata": {
        "colab": {
          "base_uri": "https://localhost:8080/"
        },
        "id": "T_pCE8JqWdxW",
        "outputId": "524f80f9-5aa0-4838-aefb-cb26988833a9"
      },
      "execution_count": null,
      "outputs": [
        {
          "output_type": "stream",
          "name": "stdout",
          "text": [
            "Primero los de la función id2idx\n",
            "id2idx[15] ->  [0]\n",
            "id2idx[12] ->  [1]\n",
            "id2idx[3] ->  -1\n",
            "Finalmente los de la función idx2id\n",
            "idx2id[0] ->  [15]\n",
            "idx2id[4] ->  [1]\n"
          ]
        }
      ]
    },
    {
      "cell_type": "markdown",
      "source": [
        "\n",
        "\n",
        "---\n",
        "\n",
        "\n",
        "4. **Precision, recall y accuracy:** En clasificación contamos con dos arreglos, la \"verdad\" y la \"predicción\". Cada elemento de los arreglos puede tomar dos valores, \"True\" (representado por 1) y \"False\" (representado por 0). Entonces podemos definir 4 variables:\n",
        "\n",
        "\n",
        "*   True Positive (TP): La verdad es 1 y la predicción es 1.\n",
        "*   True Negative (TN): La verdad es 0 y la predicción es 0.\n",
        "*   False Negative (FN): La verdad es 1 y la predicción es 0.\n",
        "*   False Positive (FP): La verdad es 0 y la predicción es 1.\n",
        "\n",
        "Se definen las siguientes métricas:\n",
        "\n",
        "\n",
        "*   Precision=TP/(TP+FP)\n",
        "*   Recall=TP/(TP+FN)\n",
        "*Accuracy=(TP+TN)/(TP+TN+FP+FN)\n",
        "\n",
        "Suponer dos arreglos:\n",
        "\n",
        "truth=[1,1,0,1,1,1,0,0,0,1]\n",
        "\n",
        "Prediction=[1,1,1,1,0,0,1,1,0,0]\n",
        "\n",
        "Calcular las tres métricas con Numpy y operaciones vectorizadas.\n",
        "\n",
        "\n",
        "\n"
      ],
      "metadata": {
        "id": "NxNJGx77q9lW"
      }
    },
    {
      "cell_type": "code",
      "source": [
        "\n",
        "#Definimos las métricas\n",
        "def funcion_precision(tp,fp):\n",
        "  arriba=tp\n",
        "  abajo=tp+fp\n",
        "  prec=arriba/abajo\n",
        "  return prec\n",
        "\n",
        "def funcion_recall(tp,fn):\n",
        "  arriba=tp\n",
        "  abajo=tp+fn\n",
        "  reca=arriba/abajo\n",
        "  return reca\n",
        "\n",
        "def funcion_accuracy(tp,tn,fp,fn):\n",
        "  arriba=tp+tn\n",
        "  abajo=tp+tn+fp+fn\n",
        "  accu=arriba/abajo\n",
        "  return accu\n"
      ],
      "metadata": {
        "id": "RKInyEMgmQgp"
      },
      "execution_count": null,
      "outputs": []
    },
    {
      "cell_type": "markdown",
      "source": [
        "Ahora operamos teniendo en cuenta que:\n",
        "\n",
        "\n",
        "\n",
        "*   Al sumar los vectores truth & prediction, voy a obtener 2 en caso de un TP y 0 en caso de un TN\n",
        "*   Al hacer la resta Truth-prediction voy a obtener -1 cuando tengo un falso positivo y 1 cuando tengo un falso negativo\n",
        "\n",
        "De esta forma, puedo definir que TN es igual a la norma L0 del vector suma y TN es restarle la norma L0 a la longitud del vector suma. Por lo que puedo usar la función que definí en el punto 1 para hacer este cálculo.\n",
        "\n",
        "\n",
        "\n"
      ],
      "metadata": {
        "id": "aPRS9mz1IHIC"
      }
    },
    {
      "cell_type": "code",
      "source": [
        "def norma_l0(matriz):\n",
        "  resp_norma_l0=np.count_nonzero(matriz,axis=1)\n",
        "  return resp_norma_l0\n",
        "\n",
        "truth=np.array([1,1,0,1,1,1,0,0,0,1])\n",
        "prediction=np.array([1,1,1,1,0,0,1,1,0,0])\n",
        "\n",
        "truth_negativo=np.negative(truth)\n",
        "suma=np.add(truth,prediction)\n",
        "resta=np.add(truth_negativo,prediction)\n",
        "\n",
        "tpArray=np.where(suma==2)\n",
        "tnArray=np.where(suma==0)\n",
        "fnArray=np.where(resta==1)\n",
        "fpArray=np.where(resta==-1)\n",
        "\n",
        "tp=tpArray[0].size\n",
        "tn=tnArray[0].size\n",
        "fn=fnArray[0].size\n",
        "fp=fpArray[0].size\n",
        "\n",
        "\n",
        "print('El valor de tp es: ',tpArray[0].size)\n",
        "print('El valor de tn es: ',tnArray[0].size)\n",
        "print('El valor de fn es: ',fnArray[0].size)\n",
        "print('El valor de fp es: ',fpArray[0].size)\n",
        "\n",
        "#Finalmente, usamos las funciones que definimos arriba para hacer los cálculos\n",
        "print('-------------')\n",
        "print('La precisión da: ',funcion_precision(tp,fp))\n",
        "print('El Recall da: ', funcion_recall(tp,fn))\n",
        "print('EL accuracy da: ',funcion_accuracy(tp,tn,fp,fn))"
      ],
      "metadata": {
        "colab": {
          "base_uri": "https://localhost:8080/"
        },
        "id": "LrYihHO6Iyki",
        "outputId": "3b2be481-ccac-4d02-f84c-73b4c4c01ddb"
      },
      "execution_count": null,
      "outputs": [
        {
          "output_type": "stream",
          "name": "stdout",
          "text": [
            "El valor de tp es:  3\n",
            "El valor de tn es:  1\n",
            "El valor de fn es:  3\n",
            "El valor de fp es:  3\n",
            "-------------\n",
            "La precisión da:  0.5\n",
            "El Recall da:  0.5\n",
            "EL accuracy da:  0.4\n"
          ]
        }
      ]
    },
    {
      "cell_type": "markdown",
      "source": [
        "\n",
        "\n",
        "---\n",
        "\n",
        "\n",
        "5. **Average query precision:** En *information retrieval* contamos con queries \"q\" y para cada \"q\" una lista de documentos que son verdaderamente relevantes. Para evaluar search engine, es común utilizar la métrica *Average query precision*. Dado un search engine y una lista de queries \"q\" para evaluación, podemos obtener los siguientes resultados:\n",
        "\n",
        "\n",
        "*   q_id=[1,1,1,1,2,2,2,3,3,3,3,3,4,4,4,4]\n",
        "*   predicted_rank=[0,1,2,3,0,1,2,0,1,2,3,4,0,1,2,3]\n",
        "*   truth_relevance=[T,F,T,F,T,T,T,F,F,F,F,F,T,F,F,T]\n",
        "\n",
        "precision para q_id 1=2/4\n",
        "\n",
        "precision para q_id 2=3/3\n",
        "\n",
        "precision para q_id 3=0/5\n",
        "\n",
        "precision para q_id 4=2/4\n",
        "\n",
        "average query precision=((2/4)+(3/3)+(0/5)+(2/4))/4\n",
        "\n",
        "Calcular las métricas con numpy y operaciones vectorizadas.\n",
        "\n"
      ],
      "metadata": {
        "id": "YO2t_WJyuAKm"
      }
    },
    {
      "cell_type": "code",
      "source": [
        "class Aqp(object):\n",
        "\n",
        "  def __init__(self,relevancia_query):\n",
        "    self.q_id=np.array([1,1,1,1,2,2,2,3,3,3,3,3,4,4,4,4])\n",
        "    #Calculo cuántos elementos hay con cada id de query\n",
        "    self.unicos=np.unique(self.q_id,False,True,return_counts=True)\n",
        "    \n",
        "    #Convertimos a un valor numérico los valores true y los valores false. T=1 F=0\n",
        "    self.true_unicos=np.unique(relevancia_query,False,True)\n",
        "  \n",
        "  def calcular_aqp(self):\n",
        "    #Multiplicamos el vector q_id y true_unicos[1], de forma que sólo quedo con el número de true, y su respectivo id.\n",
        "    identificadores=self.q_id\n",
        "    verdaderos=self.true_unicos\n",
        "    mult=np.multiply(identificadores,verdaderos[1])\n",
        "    \n",
        "    #Cuento cuántas ocurrencias hay de cada valor en el vector mult\n",
        "    bincount=np.bincount(mult)\n",
        "\n",
        "    #Quito los ceros del array, que corresponden a valores 'F'\n",
        "    bincount_sin_0=np.delete(bincount,0)\n",
        "\n",
        "    #Dividimos los dos arrays\n",
        "    division=np.divide(bincount_sin_0,self.unicos[2])\n",
        "\n",
        "    #Obtenemos la longitud del vector division\n",
        "    long_div=division.size\n",
        "\n",
        "    #Sumamos todos los elementos del array division\n",
        "    suma_div=np.sum(division)\n",
        "\n",
        "    #Calculamos el average quety precision\n",
        "    average_query_precision=suma_div/long_div\n",
        "\n",
        "    return average_query_precision\n",
        "\n",
        "relevancia=np.array(['T','F','T','F','T','T','T','F','F','F','F','F','T','F','F','T'])\n",
        "\n",
        "objeto_aqp=Aqp(relevancia)\n",
        "print('El valor del Average Query Precision es:',objeto_aqp.calcular_aqp())"
      ],
      "metadata": {
        "colab": {
          "base_uri": "https://localhost:8080/"
        },
        "id": "zQy4oN-JW00E",
        "outputId": "c3199375-304b-4d94-9b3d-b9bb6bb3a631"
      },
      "execution_count": null,
      "outputs": [
        {
          "output_type": "stream",
          "name": "stdout",
          "text": [
            "El valor del Average Query Precision es: 0.5\n"
          ]
        }
      ]
    },
    {
      "cell_type": "markdown",
      "source": [
        "\n",
        "\n",
        "---\n",
        "\n",
        "\n",
        "6. **Distancia a centroides:**  Dada una nube de puntos y centroides C, \n",
        "obtener las distancias entre cada vextor X y los centroides utilizando operaciones vectorizadas y broadcasting en Numpy. Utilizar como referencia los siguientes valores:\n",
        "\n",
        "\n",
        "\n",
        "*   X=[[1,2,3],[4,5,6],[7,8,9]]\n",
        "*   C=[[1,0,0],[0,1,1]]\n",
        "\n"
      ],
      "metadata": {
        "id": "1kYkYSkPwBjC"
      }
    },
    {
      "cell_type": "code",
      "source": [
        "def distancia_a_centroides(X,C):\n",
        "  #Dado que con broadcasting necesito que la dimensión me quede en 1, separo.\n",
        "  matrices_separadas=np.vsplit(C,2)\n",
        "  #Opero\n",
        "  resta=x-matrices_separadas\n",
        "  op=np.sqrt(np.sum(resta**2,axis=2))\n",
        "  return op\n",
        "\n",
        "\n",
        "x=np.array([[1,2,3], [4,5,6], [7,8,9]])\n",
        "c=np.array([[1,0,0], [0,1,1]])\n",
        "\n",
        "print('La distancia a los centroides es:',distancia_a_centroides(x,c))"
      ],
      "metadata": {
        "colab": {
          "base_uri": "https://localhost:8080/"
        },
        "id": "bLEAXQtqf1xk",
        "outputId": "401a2ffb-fa29-47e8-fc10-25c23988e455"
      },
      "execution_count": null,
      "outputs": [
        {
          "output_type": "stream",
          "name": "stdout",
          "text": [
            "La distancia a los centroides es: [[ 3.60555128  8.36660027 13.45362405]\n",
            " [ 2.44948974  7.54983444 12.72792206]]\n"
          ]
        }
      ]
    },
    {
      "cell_type": "markdown",
      "source": [
        "\n",
        "\n",
        "---\n",
        "\n",
        "\n",
        "\n",
        "7. **Enunciado:**  Obtener para cada fila en X, el índice de la fila en C con distancia euclídea más pequeña. Es decir, para cada fila en X a qué cluster pertenece en C. Por ejemplo, si el resultado anterior fue:\n",
        "\n",
        "![ej7.jpg](data:image/jpeg;base64,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)\n",
        "\n",
        "El programa debería devolver [1,1,1]\n",
        "\n",
        "Hint:Utilizar np.argmin"
      ],
      "metadata": {
        "id": "-3CXswhWwhRG"
      }
    },
    {
      "cell_type": "code",
      "source": [
        "def el_cluster(respuesa_punto_6):\n",
        "  pertenece_a=np.argmin(respuesa_punto_6,axis=0)\n",
        "  return pertenece_a\n",
        "\n",
        "resp_anrerior=np.array([[3.60555128,8.36660027,13.45362405],[ 2.44948974,7.5498344,12.72792206]])\n",
        "\n",
        "\n",
        "print('Esta respuesta pertenece a:', el_cluster(resp_anrerior))"
      ],
      "metadata": {
        "colab": {
          "base_uri": "https://localhost:8080/"
        },
        "id": "cRmZmrpwecgG",
        "outputId": "1ad0969b-b09d-4e8a-a317-1c43472e1510"
      },
      "execution_count": null,
      "outputs": [
        {
          "output_type": "stream",
          "name": "stdout",
          "text": [
            "Esta respuesta pertenece a: [1 1 1]\n"
          ]
        }
      ]
    },
    {
      "cell_type": "markdown",
      "source": [
        "\n",
        "\n",
        "---\n",
        "\n",
        "\n",
        "\n",
        "8. **Implementación básica de K-Means en Numpy**  K-Means es uno de los algoritmos más básicos de Machine Learning no supervisado. Es un algoritmo de clusterización, que agrupa los datos que comparten características similates. Recordemos que entendemos datos como n realizaciones del vector aleatorio X.\n",
        "\n",
        "El algoritmo K-means funciona de la siguiente manera:\n",
        "\n",
        "\n",
        "\n",
        "1.   El usuario selecciona la cantidad de clusters a crear (n).\n",
        "2.   Se seleccionan n elementos aleatorios de X como posiciones iniciales de los centroides C.\n",
        "3. Se calcula la distancia entre todos los puntos en X y todos los puntos en C.\n",
        "4. Para cada punto en X se selecciona el centroide más cercano de C.\n",
        "5. Se recalculan los centroides C a partir de usar las filas X que pertenecen a cada centroide.\n",
        "6. Se itera entre 3 y 5 una cantidad fija de veces o hasta que la posición de los centroides no cambie.\n",
        "\n",
        "Implementar la función def k_means(X,n) de manera tal que al finalizar, devuelva la posición de los centroides y a qué cluster pertenece cada fila de X.\n",
        "\n",
        "Hint: Para (2) utilizar funciones de np.random, para (3) y (4) usar los ejercicios anteriores. Para (5) es válido utilizar un for. Iterar 10 veces entre (3) y (5).\n",
        "\n"
      ],
      "metadata": {
        "id": "c-1YANaoJ_E0"
      }
    },
    {
      "cell_type": "code",
      "source": [
        "def k_means(X,n,tam):\n",
        "  #Indicamos el número de iteraciones\n",
        "  iteraciones=10\n",
        "  #2. Se calculan n elementos aleatorios de X como posiciones iniciales de los centroides C.\n",
        "  primeros_centroides_indice=np.random.randint(tam, size=n)\n",
        "  centroides=X[primeros_centroides_indice,:]\n",
        "  #Calculamos la distancias entre los puntos de X y los centroides\n",
        "  for i in range(0,iteraciones-1):\n",
        "    distancias=calcularDistancias(X,centroides,n)\n",
        "    asignacion_centroides=asignarCentroide(distancias,centroides,X)\n",
        "  return centroides\n",
        "\n",
        "#Creamos una función muy parecida a la del punto 6 que nos calcule la distancia entre los puntos y sus respectivos centroides\n",
        "def calcularDistancias(X,C,n):\n",
        "  matrics_separadas=np.split(C,n)\n",
        "  #Opero\n",
        "  resta=X-matrics_separadas\n",
        "  op=np.sqrt(np.sum(resta**2,axis=2))\n",
        "  return op\n",
        "\n",
        "#4. Para cada punto en X se selecciona el centroide más cercano de C.\n",
        "def asignarCentroide(matriz_de_distancias, C,X):\n",
        "  minimaDistancia=np.amin(matriz_de_distancias,axis=0)\n",
        "  indices=np.where(matriz_de_distancias==minimaDistancia)[0][:]\n",
        "  return indices\n",
        "\n",
        "#1. El usuario selecciona la cantidad de clusters que se quiere crear\n",
        "clusters=5\n",
        "#Dejo la opción abierta para que lo seleccione como input\n",
        "#clusters=input()\n",
        "\n",
        "#Generamos el Dataset\n",
        "tamanio_del_dataset=50\n",
        "points = np.random.randn(tamanio_del_dataset, 2)\n",
        "\n",
        "#--------------\n",
        "#Llamo a la función k-means\n",
        "k_means(points,clusters,tamanio_del_dataset)"
      ],
      "metadata": {
        "id": "0oiYIhsDUaMW",
        "outputId": "f5ee15ba-425f-474f-d443-75e863f127d9",
        "colab": {
          "base_uri": "https://localhost:8080/"
        }
      },
      "execution_count": null,
      "outputs": [
        {
          "output_type": "execute_result",
          "data": {
            "text/plain": [
              "array([[-0.52484623,  0.21017971],\n",
              "       [-0.8228997 , -1.01860283],\n",
              "       [-0.69955265, -1.80002187],\n",
              "       [-0.02250486, -1.11268128],\n",
              "       [-0.36725044, -0.57015443]])"
            ]
          },
          "metadata": {},
          "execution_count": 10
        }
      ]
    },
    {
      "cell_type": "markdown",
      "source": [
        "9. **Computar todas las métricas con call:** En problemas de machine Learning, es muy común que para cada predicción que obtenemos en nuestro dataset de verificación y evaluación, almacenemos en arreglos de numpy array el resultado de dicha predicción, junto con el valor verdadero y parámetros auxiliares (como el ranking de la predicción y el query id).\n",
        "\n",
        "  Luego de obtener todas las predicciones, podemos utilizar la información almacenada en los arreglos de numpy, para calcular todas las métricas que queremos medir en nuestro sistema.\n",
        "\n",
        "  Una buena práctica para implementar esto en python es crear clases que hereden de una clase Metric \"base\" y que cada métrica implemente el método call.\n",
        "\n",
        "  Utilizar herencia, operador call, kwargs, para escribir un programa que permita calcular todas las métricas de los ejercicios anteriores mediante un for. Cuál es la ventaja de resolver el problema utilizando estas herramientas?"
      ],
      "metadata": {
        "id": "IHOvweG6NrwS"
      }
    }
  ]
}